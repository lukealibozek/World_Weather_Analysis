{
 "cells": [
  {
   "cell_type": "code",
   "execution_count": 19,
   "id": "b48908ca",
   "metadata": {},
   "outputs": [],
   "source": [
    "# Create a practice set of random latitude and longitude combinations.\n",
    "x = [25.12903645, 25.92017388, 26.62509167, -59.98969384, 37.30571269]\n",
    "y = [-67.59741259, 11.09532135, 74.84233102, -76.89176677, -61.13376282]\n",
    "coordinates = zip(x, y)"
   ]
  },
  {
   "cell_type": "code",
   "execution_count": 20,
   "id": "d80ca7da",
   "metadata": {},
   "outputs": [
    {
     "name": "stdout",
     "output_type": "stream",
     "text": [
      "25.12903645 -67.59741259\n",
      "25.92017388 11.09532135\n",
      "26.62509167 74.84233102\n",
      "-59.98969384 -76.89176677\n",
      "37.30571269 -61.13376282\n"
     ]
    }
   ],
   "source": [
    "# Use the tuple() function to display the latitude and longitude combinations.\n",
    "for coordinate in coordinates:\n",
    "    print(coordinate[0], coordinate[1])"
   ]
  },
  {
   "cell_type": "markdown",
   "id": "baa7d41e",
   "metadata": {},
   "source": [
    "You can only unzip a zipped tuple once before it is removed from the computer's memory. Make sure you unzip the latitudes and longitudes into the coordinates list before moving on."
   ]
  },
  {
   "cell_type": "markdown",
   "id": "a130341e",
   "metadata": {},
   "source": [
    "# APIs\n",
    "\n",
    "**Requests: HTTP for Humans™ — Requests 2.26.0 documentation** [(view)](https://requests.kennethreitz.org/en/master/)\n",
    "\n",
    "**Quickstart — Requests 2.26.0 documentation** [(view)](https://requests.kennethreitz.org/en/master/user/quickstart/#make-a-request)"
   ]
  },
  {
   "cell_type": "code",
   "execution_count": 21,
   "id": "805ee3d8",
   "metadata": {},
   "outputs": [],
   "source": [
    "# Import the requests library.\n",
    "import requests\n",
    "\n",
    "# Import the API key.\n",
    "from config import weather_api_key"
   ]
  },
  {
   "cell_type": "markdown",
   "id": "b7c46c1a",
   "metadata": {},
   "source": [
    "Documentation for API calls:\n",
    "**Current weather data - OpenWeatherMap** [(view)](https://openweathermap.org/current)"
   ]
  },
  {
   "cell_type": "code",
   "execution_count": 22,
   "id": "f1e8af2e",
   "metadata": {},
   "outputs": [],
   "source": [
    "# Starting URL for Weather Map API Call.\n",
    "url = \"http://api.openweathermap.org/data/2.5/weather?units=Imperial&APPID=\" + weather_api_key\n",
    "\n",
    "# don't print this line and save it - could expose API key"
   ]
  },
  {
   "cell_type": "markdown",
   "id": "c9ef83e0",
   "metadata": {},
   "source": [
    "You may have noticed that we added another feature to the URL: `units=Imperial`. There are three unit options: standard, metric, and imperial. Navigating to the units section of the current weather data page (Links to an external site.) will show you the options for the unit format: standard metric, and imperial."
   ]
  },
  {
   "cell_type": "code",
   "execution_count": 23,
   "id": "b4e9251c",
   "metadata": {},
   "outputs": [
    {
     "name": "stdout",
     "output_type": "stream",
     "text": [
      "http://api.openweathermap.org/data/2.5/weather?units=Imperial&APPID=0d2a5e111d003140172edad093a4660c&q=Boston\n"
     ]
    }
   ],
   "source": [
    "# Create an endpoint URL for a city.\n",
    "city_url = url + \"&q=\" + \"Boston\"\n",
    "print(city_url)"
   ]
  },
  {
   "cell_type": "markdown",
   "id": "acd33e93",
   "metadata": {},
   "source": [
    "Request Method | Action\n",
    "|---|---|\n",
    "get() | Retrieves data from a web source.\n",
    "head() | Retrieves the headers from a web source.\n",
    "post() | Adds or annotates data on a web source. Used on mailing groups, message boards, or comments.\n",
    "put() | Updates an existing resource. For example, if the date on a Wikipedia page is wrong, you can use the put() method to update that date.\n",
    "delete() | Deletes data from a web source.\n",
    "options() | Discovers what HTTP methods a web source allows.\n",
    "patch() | Partially modifies a web source."
   ]
  },
  {
   "cell_type": "markdown",
   "id": "d5f69205",
   "metadata": {},
   "source": [
    "# Checking response codes"
   ]
  },
  {
   "cell_type": "code",
   "execution_count": 24,
   "id": "5f576f32",
   "metadata": {},
   "outputs": [
    {
     "data": {
      "text/plain": [
       "<Response [200]>"
      ]
     },
     "execution_count": 24,
     "metadata": {},
     "output_type": "execute_result"
    }
   ],
   "source": [
    "# Make a 'Get' request for the city weather.\n",
    "city_weather = requests.get(city_url)\n",
    "city_weather"
   ]
  },
  {
   "cell_type": "code",
   "execution_count": 25,
   "id": "f17e71ea",
   "metadata": {},
   "outputs": [
    {
     "data": {
      "text/plain": [
       "<Response [404]>"
      ]
     },
     "execution_count": 25,
     "metadata": {},
     "output_type": "execute_result"
    }
   ],
   "source": [
    "# Create an endpoint URL for a city.\n",
    "city_url = url + \"&q=\" + \"Bston\"\n",
    "city_weather = requests.get(city_url)\n",
    "city_weather"
   ]
  },
  {
   "cell_type": "code",
   "execution_count": 26,
   "id": "b311ab32",
   "metadata": {},
   "outputs": [
    {
     "data": {
      "text/plain": [
       "<Response [200]>"
      ]
     },
     "execution_count": 26,
     "metadata": {},
     "output_type": "execute_result"
    }
   ],
   "source": [
    "# Create an endpoint URL for a city.\n",
    "city_url = url + \"&q=\" + \"Boston\"\n",
    "city_weather = requests.get(city_url)\n",
    "city_weather"
   ]
  },
  {
   "cell_type": "markdown",
   "id": "5a72933a",
   "metadata": {},
   "source": [
    "# Formatting the response"
   ]
  },
  {
   "cell_type": "code",
   "execution_count": 27,
   "id": "1dbf6069",
   "metadata": {},
   "outputs": [
    {
     "data": {
      "text/plain": [
       "'{\"coord\":{\"lon\":-71.0598,\"lat\":42.3584},\"weather\":[{\"id\":800,\"main\":\"Clear\",\"description\":\"clear sky\",\"icon\":\"01n\"}],\"base\":\"stations\",\"main\":{\"temp\":24.21,\"feels_like\":16.11,\"temp_min\":19.53,\"temp_max\":27.1,\"pressure\":1015,\"humidity\":47},\"visibility\":10000,\"wind\":{\"speed\":7,\"deg\":316,\"gust\":18.99},\"clouds\":{\"all\":0},\"dt\":1642551170,\"sys\":{\"type\":2,\"id\":2013408,\"country\":\"US\",\"sunrise\":1642507749,\"sunset\":1642541986},\"timezone\":-18000,\"id\":4930956,\"name\":\"Boston\",\"cod\":200}'"
      ]
     },
     "execution_count": 27,
     "metadata": {},
     "output_type": "execute_result"
    }
   ],
   "source": [
    "# Get the text of the 'Get' request.\n",
    "city_weather.text"
   ]
  },
  {
   "cell_type": "code",
   "execution_count": 28,
   "id": "e48b0ed4",
   "metadata": {},
   "outputs": [
    {
     "data": {
      "text/plain": [
       "{'coord': {'lon': -71.0598, 'lat': 42.3584},\n",
       " 'weather': [{'id': 800,\n",
       "   'main': 'Clear',\n",
       "   'description': 'clear sky',\n",
       "   'icon': '01n'}],\n",
       " 'base': 'stations',\n",
       " 'main': {'temp': 24.21,\n",
       "  'feels_like': 16.11,\n",
       "  'temp_min': 19.53,\n",
       "  'temp_max': 27.1,\n",
       "  'pressure': 1015,\n",
       "  'humidity': 47},\n",
       " 'visibility': 10000,\n",
       " 'wind': {'speed': 7, 'deg': 316, 'gust': 18.99},\n",
       " 'clouds': {'all': 0},\n",
       " 'dt': 1642551170,\n",
       " 'sys': {'type': 2,\n",
       "  'id': 2013408,\n",
       "  'country': 'US',\n",
       "  'sunrise': 1642507749,\n",
       "  'sunset': 1642541986},\n",
       " 'timezone': -18000,\n",
       " 'id': 4930956,\n",
       " 'name': 'Boston',\n",
       " 'cod': 200}"
      ]
     },
     "execution_count": 28,
     "metadata": {},
     "output_type": "execute_result"
    }
   ],
   "source": [
    "# Get the JSON text of the 'Get' request.\n",
    "city_weather.json()"
   ]
  },
  {
   "cell_type": "markdown",
   "id": "d9682780",
   "metadata": {},
   "source": [
    "# Error Handling"
   ]
  },
  {
   "cell_type": "code",
   "execution_count": 29,
   "id": "159cbb60",
   "metadata": {},
   "outputs": [
    {
     "name": "stdout",
     "output_type": "stream",
     "text": [
      "City Weather found.\n"
     ]
    }
   ],
   "source": [
    "# Create an endpoint URL for a city.\n",
    "city_url = url + \"&q=\" + \"Boston\"\n",
    "city_weather = requests.get(city_url)\n",
    "if city_weather.status_code == 200:\n",
    "    print(f\"City Weather found.\")\n",
    "else:\n",
    "    print(f\"City weather not found.\")"
   ]
  },
  {
   "cell_type": "code",
   "execution_count": 30,
   "id": "a41a20dc",
   "metadata": {},
   "outputs": [
    {
     "name": "stdout",
     "output_type": "stream",
     "text": [
      "City weather not found.\n"
     ]
    }
   ],
   "source": [
    "# Create an endpoint URL for a city.\n",
    "city_url = url + \"&q=\" + \"Bston\"\n",
    "city_weather = requests.get(city_url)\n",
    "if city_weather.status_code == 200:\n",
    "    print(f\"City Weather found.\")\n",
    "else:\n",
    "    print(f\"City weather not found.\")"
   ]
  },
  {
   "cell_type": "markdown",
   "id": "62772f51",
   "metadata": {},
   "source": [
    "# Parsing responses"
   ]
  },
  {
   "cell_type": "code",
   "execution_count": 31,
   "id": "ef3de59e",
   "metadata": {},
   "outputs": [
    {
     "data": {
      "text/plain": [
       "{'coord': {'lon': -71.0598, 'lat': 42.3584},\n",
       " 'weather': [{'id': 800,\n",
       "   'main': 'Clear',\n",
       "   'description': 'clear sky',\n",
       "   'icon': '01n'}],\n",
       " 'base': 'stations',\n",
       " 'main': {'temp': 24.21,\n",
       "  'feels_like': 16.11,\n",
       "  'temp_min': 19.53,\n",
       "  'temp_max': 27.1,\n",
       "  'pressure': 1015,\n",
       "  'humidity': 47},\n",
       " 'visibility': 10000,\n",
       " 'wind': {'speed': 7, 'deg': 316, 'gust': 18.99},\n",
       " 'clouds': {'all': 0},\n",
       " 'dt': 1642551170,\n",
       " 'sys': {'type': 2,\n",
       "  'id': 2013408,\n",
       "  'country': 'US',\n",
       "  'sunrise': 1642507749,\n",
       "  'sunset': 1642541986},\n",
       " 'timezone': -18000,\n",
       " 'id': 4930956,\n",
       " 'name': 'Boston',\n",
       " 'cod': 200}"
      ]
     },
     "execution_count": 31,
     "metadata": {},
     "output_type": "execute_result"
    }
   ],
   "source": [
    "# Create an endpoint URL for a city.\n",
    "city_url = url + \"&q=\" + \"Boston\"\n",
    "city_weather = requests.get(city_url)\n",
    "city_weather.json()"
   ]
  },
  {
   "cell_type": "code",
   "execution_count": 32,
   "id": "3e30ce0a",
   "metadata": {},
   "outputs": [],
   "source": [
    "# Get the JSON data.\n",
    "boston_data = city_weather.json()"
   ]
  },
  {
   "cell_type": "code",
   "execution_count": 35,
   "id": "de30f844",
   "metadata": {},
   "outputs": [
    {
     "data": {
      "text/plain": [
       "{'type': 2,\n",
       " 'id': 2013408,\n",
       " 'country': 'US',\n",
       " 'sunrise': 1642507749,\n",
       " 'sunset': 1642541986}"
      ]
     },
     "execution_count": 35,
     "metadata": {},
     "output_type": "execute_result"
    }
   ],
   "source": [
    "boston_data[\"sys\"]"
   ]
  },
  {
   "cell_type": "code",
   "execution_count": 36,
   "id": "f71c35b0",
   "metadata": {},
   "outputs": [
    {
     "data": {
      "text/plain": [
       "'US'"
      ]
     },
     "execution_count": 36,
     "metadata": {},
     "output_type": "execute_result"
    }
   ],
   "source": [
    "boston_data[\"sys\"][\"country\"]"
   ]
  },
  {
   "cell_type": "code",
   "execution_count": 37,
   "id": "32e30399",
   "metadata": {},
   "outputs": [
    {
     "name": "stdout",
     "output_type": "stream",
     "text": [
      "42.3584 -71.0598 27.1 47 0 7\n"
     ]
    }
   ],
   "source": [
    "lat = boston_data[\"coord\"][\"lat\"]\n",
    "lng = boston_data[\"coord\"][\"lon\"]\n",
    "max_temp = boston_data[\"main\"][\"temp_max\"]\n",
    "humidity = boston_data[\"main\"][\"humidity\"]\n",
    "clouds = boston_data[\"clouds\"][\"all\"]\n",
    "wind = boston_data[\"wind\"][\"speed\"]\n",
    "print(lat, lng, max_temp, humidity, clouds, wind)"
   ]
  },
  {
   "cell_type": "code",
   "execution_count": 38,
   "id": "ccfc214f",
   "metadata": {},
   "outputs": [
    {
     "data": {
      "text/plain": [
       "datetime.datetime(2022, 1, 19, 0, 12, 50)"
      ]
     },
     "execution_count": 38,
     "metadata": {},
     "output_type": "execute_result"
    }
   ],
   "source": [
    "# Import the datetime module from the datetime library.\n",
    "from datetime import datetime\n",
    "# Get the date from the JSON file.\n",
    "date = boston_data[\"dt\"]\n",
    "# Convert the UTC date to a date format with year, month, day, hours, minutes, and seconds.\n",
    "datetime.utcfromtimestamp(date)"
   ]
  },
  {
   "cell_type": "markdown",
   "id": "af395e5b",
   "metadata": {},
   "source": [
    "We can convert this datetime format to 2019-10-21 17:24:35 using the Python string format method `strftime()` and adding how we want the string to look inside the parentheses. In our case, we would use `strftime('%Y-%m-%d %H:%M:%S')`.\n",
    "\n",
    "Add `.strftime('%Y-%m-%d %H:%M:%S')` to the end of the conversion: `datetime.utcfromtimestamp(date).strftime('%Y-%m-%d %H:%M:%S')`. "
   ]
  },
  {
   "cell_type": "code",
   "execution_count": 39,
   "id": "8f16a027",
   "metadata": {},
   "outputs": [
    {
     "data": {
      "text/plain": [
       "'2022-01-19 00:12:50'"
      ]
     },
     "execution_count": 39,
     "metadata": {},
     "output_type": "execute_result"
    }
   ],
   "source": [
    "datetime.utcfromtimestamp(date).strftime('%Y-%m-%d %H:%M:%S')"
   ]
  }
 ],
 "metadata": {
  "interpreter": {
   "hash": "ea21f4f73dfac5746a99a1c9094b731877d641b006a654112e67fbf85b9a24ad"
  },
  "kernelspec": {
   "display_name": "PythonData",
   "language": "python",
   "name": "python3"
  },
  "language_info": {
   "codemirror_mode": {
    "name": "ipython",
    "version": 3
   },
   "file_extension": ".py",
   "mimetype": "text/x-python",
   "name": "python",
   "nbconvert_exporter": "python",
   "pygments_lexer": "ipython3",
   "version": "3.7.11"
  }
 },
 "nbformat": 4,
 "nbformat_minor": 5
}
