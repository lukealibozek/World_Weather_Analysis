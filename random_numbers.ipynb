{
 "cells": [
  {
   "cell_type": "code",
   "execution_count": 4,
   "id": "b3c0803c",
   "metadata": {},
   "outputs": [],
   "source": [
    "# Import the random module.\n",
    "import random"
   ]
  },
  {
   "cell_type": "code",
   "execution_count": 13,
   "id": "bdf5251e",
   "metadata": {},
   "outputs": [
    {
     "data": {
      "text/plain": [
       "88"
      ]
     },
     "execution_count": 13,
     "metadata": {},
     "output_type": "execute_result"
    }
   ],
   "source": [
    "random.randint(-90, 90)"
   ]
  },
  {
   "cell_type": "code",
   "execution_count": 14,
   "id": "a6dbb6ee",
   "metadata": {},
   "outputs": [
    {
     "data": {
      "text/plain": [
       "[59.7469182652384,\n",
       " -88.42264188221046,\n",
       " 77.5477979246267,\n",
       " -87.05582601222416,\n",
       " 14.681543291858754,\n",
       " -30.061926487132407,\n",
       " -42.25130087415482,\n",
       " -75.98840618346904,\n",
       " -68.44126832868983,\n",
       " -43.11289250487512]"
      ]
     },
     "execution_count": 14,
     "metadata": {},
     "output_type": "execute_result"
    }
   ],
   "source": [
    "x = 1\n",
    "latitudes = []\n",
    "while x < 11:\n",
    "    random_lat = random.randint(-90, 89) + random.random()\n",
    "    latitudes.append(random_lat)\n",
    "    x += 1\n",
    "latitudes"
   ]
  },
  {
   "cell_type": "markdown",
   "id": "a52121bf",
   "metadata": {},
   "source": [
    "- Assign the variable x to 1.\n",
    "- Initialize an empty list, latitudes.\n",
    "- We create a while loop where we generate a random latitude and add it to the list.\n",
    "- After the random latitude is added to the list we add one to the variable \"x\".\n",
    "- The while loop condition is checked again and will continue to run as long as x is less than 11."
   ]
  },
  {
   "cell_type": "markdown",
   "id": "32a7d233",
   "metadata": {},
   "source": [
    "Function | Output | Limitation\n",
    "|---|---|---|\n",
    "randint(-90, 89) | Returns an integer between the interval, -90 and up to 89. | Will not generate a floating-point decimal number.\n",
    "random() | Returns a floating-point decimal number between 0 and 1. | Will not generate a whole integer.\n",
    "randrange(-90, 90, step=1) | Returns a whole integer between the interval, -90 and 90 where the step is the difference between each number in the sequence. | Will not generate a floating-point decimal number.\n",
    "uniform(-90, 90) | Returns a floating-point decimal number between the interval, -90 and 90. | Will not generate a whole integer."
   ]
  },
  {
   "cell_type": "markdown",
   "id": "d2b80395",
   "metadata": {},
   "source": [
    "# Adding NumPy"
   ]
  },
  {
   "cell_type": "code",
   "execution_count": 16,
   "id": "f14c25de",
   "metadata": {},
   "outputs": [],
   "source": [
    "# Import the NumPy module.\n",
    "import numpy as np"
   ]
  },
  {
   "cell_type": "markdown",
   "id": "26fa86c6",
   "metadata": {},
   "source": [
    ".**uniform**"
   ]
  },
  {
   "cell_type": "code",
   "execution_count": 17,
   "id": "51cc904e",
   "metadata": {},
   "outputs": [
    {
     "data": {
      "text/plain": [
       "-70.3345550990764"
      ]
     },
     "execution_count": 17,
     "metadata": {},
     "output_type": "execute_result"
    }
   ],
   "source": [
    "np.random.uniform(-90.000, 90.000)"
   ]
  },
  {
   "cell_type": "markdown",
   "id": "f21db53d",
   "metadata": {},
   "source": [
    "**Alternate**"
   ]
  },
  {
   "cell_type": "code",
   "execution_count": 18,
   "id": "ae60a4ff",
   "metadata": {},
   "outputs": [
    {
     "data": {
      "text/plain": [
       "-84.04444555508415"
      ]
     },
     "execution_count": 18,
     "metadata": {},
     "output_type": "execute_result"
    }
   ],
   "source": [
    "# alt usage\n",
    "np.random.uniform(low=-90, high=90)"
   ]
  },
  {
   "cell_type": "markdown",
   "id": "1786d43b",
   "metadata": {},
   "source": [
    "**'size' parameter**"
   ]
  },
  {
   "cell_type": "code",
   "execution_count": 19,
   "id": "cd705334",
   "metadata": {},
   "outputs": [
    {
     "data": {
      "text/plain": [
       "array([-69.01320491, -31.5357532 , -76.70885666, -41.35841692,\n",
       "        76.16733711,  22.1045887 ,  66.0618003 , -51.53057712,\n",
       "       -19.43307358, -43.46730975, -39.71098502, -23.56400598,\n",
       "        -5.88496445, -68.7341464 ,  83.7508926 , -29.66674242,\n",
       "        59.94126081,  47.34985548, -13.86050561, -72.0453963 ,\n",
       "        24.79691947,  -5.83276279,  85.4771803 ,  34.06843389,\n",
       "        57.52185666,  72.26754839,  31.94699539, -44.15019031,\n",
       "       -52.30694255, -30.84764085, -39.11940908, -81.46113197,\n",
       "        88.46015445,  49.34519432,  38.2538211 ,  44.51812853,\n",
       "         6.05692244, -76.41762766, -49.58213981, -10.22808114,\n",
       "        36.48777021, -43.79829236, -16.36918014,  77.73939443,\n",
       "       -30.44053093, -11.61466663, -60.52718726, -57.01692257,\n",
       "       -18.56924972, -56.54921372])"
      ]
     },
     "execution_count": 19,
     "metadata": {},
     "output_type": "execute_result"
    }
   ],
   "source": [
    "np.random.uniform(-90.000, 90.000, size=50)"
   ]
  },
  {
   "cell_type": "markdown",
   "id": "1ac1a892",
   "metadata": {},
   "source": [
    "**Test how long code runs, as we increase to 1500 - timeit**"
   ]
  },
  {
   "cell_type": "code",
   "execution_count": 21,
   "id": "04ae0a61",
   "metadata": {},
   "outputs": [],
   "source": [
    "# Import timeit.\n",
    "import timeit"
   ]
  },
  {
   "cell_type": "code",
   "execution_count": 22,
   "id": "54f15e67",
   "metadata": {},
   "outputs": [
    {
     "name": "stdout",
     "output_type": "stream",
     "text": [
      "12.2 µs ± 45.4 ns per loop (mean ± std. dev. of 7 runs, 100000 loops each)\n"
     ]
    }
   ],
   "source": [
    "%timeit np.random.uniform(-90.000, 90.000, size=1500)"
   ]
  },
  {
   "cell_type": "markdown",
   "id": "dd5f14c8",
   "metadata": {},
   "source": [
    "**Build a function w/ timeit**"
   ]
  },
  {
   "cell_type": "code",
   "execution_count": 23,
   "id": "994a2d69",
   "metadata": {},
   "outputs": [
    {
     "name": "stdout",
     "output_type": "stream",
     "text": [
      "1.41 ms ± 2.02 µs per loop (mean ± std. dev. of 7 runs, 1000 loops each)\n"
     ]
    }
   ],
   "source": [
    "def latitudes(size):\n",
    "    latitudes = []\n",
    "    x = 0\n",
    "    while x < (size):\n",
    "        random_lat = random.randint(-90, 90) + random.random()\n",
    "        latitudes.append(random_lat)\n",
    "        x += 1\n",
    "    return latitudes\n",
    "\n",
    "\n",
    "# Call the function with 1500.\n",
    "%timeit latitudes(1500)"
   ]
  },
  {
   "cell_type": "markdown",
   "id": "fdad8488",
   "metadata": {},
   "source": [
    "**SKILL DRILL**\n",
    "Refactor the code for the while loop with the `%timeit` magic command and write a for loop that will generate the 1,500 latitudes."
   ]
  },
  {
   "cell_type": "code",
   "execution_count": 32,
   "id": "d85cdd06",
   "metadata": {},
   "outputs": [
    {
     "name": "stdout",
     "output_type": "stream",
     "text": [
      "1.4 ms ± 9.06 µs per loop (mean ± std. dev. of 7 runs, 1000 loops each)\n"
     ]
    }
   ],
   "source": [
    "def latty(size):\n",
    "    latitudes = []\n",
    "    for x in range(0,size):\n",
    "        random_lat = random.randint(-90, 90) + random.random()\n",
    "        latitudes.append(random_lat)\n",
    "    return latitudes\n",
    "\n",
    "%timeit latty(1500)"
   ]
  }
 ],
 "metadata": {
  "interpreter": {
   "hash": "ea21f4f73dfac5746a99a1c9094b731877d641b006a654112e67fbf85b9a24ad"
  },
  "kernelspec": {
   "display_name": "PythonData",
   "language": "python",
   "name": "python3"
  },
  "language_info": {
   "codemirror_mode": {
    "name": "ipython",
    "version": 3
   },
   "file_extension": ".py",
   "mimetype": "text/x-python",
   "name": "python",
   "nbconvert_exporter": "python",
   "pygments_lexer": "ipython3",
   "version": "3.7.11"
  }
 },
 "nbformat": 4,
 "nbformat_minor": 5
}
