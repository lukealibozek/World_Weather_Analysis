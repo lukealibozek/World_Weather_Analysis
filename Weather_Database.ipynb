{
 "cells": [
  {
   "cell_type": "markdown",
   "id": "7a8b5f17",
   "metadata": {},
   "source": [
    "# Deliverable 1\n",
    "\n",
    "- Create a set of 2000 random coordinates\n",
    "- Get the nearest city with `citypy`\n",
    "- Perform an API call with OpenWeatherMap\n",
    "- Retrieve the following information from the API call:\n",
    "    - Latitude and longitude\n",
    "    - Maximum temperature\n",
    "    - Percent humidity\n",
    "    - Percent cloudiness\n",
    "    - Wind speed\n",
    "    - Weather description (for example, clouds, fog, light rain, clear sky)\n",
    "- Add the data to a new DataFrame.\n",
    "    - Before exporting your new DataFrame as a CSV file, take a moment to confirm that it looks similar to the image below:\n",
    "- The new cities_data DataFrame summarizes the current weather description.\n",
    "- Export the DataFrame as a CSV file, and save it as `WeatherPy_Database.csv` in the Weather_Database folder."
   ]
  },
  {
   "cell_type": "markdown",
   "id": "03924afd",
   "metadata": {},
   "source": [
    "## Generate Coordinates\n",
    "---"
   ]
  },
  {
   "cell_type": "code",
   "execution_count": 1,
   "id": "de4d378d",
   "metadata": {},
   "outputs": [],
   "source": [
    "# Import the dependencies.\n",
    "import pandas as pd\n",
    "import matplotlib.pyplot as plt\n",
    "import numpy as np"
   ]
  },
  {
   "cell_type": "code",
   "execution_count": 7,
   "id": "8a64a3f1",
   "metadata": {},
   "outputs": [
    {
     "name": "stdout",
     "output_type": "stream",
     "text": [
      "2000\n"
     ]
    }
   ],
   "source": [
    "# Create set of 2000 random coordinates\n",
    "lats = np.random.uniform(low=-90,high=90,size=2000)\n",
    "lngs = np.random.uniform(low=-180,high=180,size=2000)\n",
    "lat_lngs = zip(lats,lngs)\n",
    "coordinates = list(lat_lngs)\n",
    "print(len(coordinates))"
   ]
  },
  {
   "cell_type": "code",
   "execution_count": 8,
   "id": "afd8173d",
   "metadata": {},
   "outputs": [
    {
     "name": "stdout",
     "output_type": "stream",
     "text": [
      "[(-59.73249950625845, -16.67704919680412), (64.96992472279362, -74.48760021821826), (69.27778833161321, -67.26100220694602), (54.196190102487236, -168.86481186978216), (-89.10085337792768, 6.974800434335862), (-63.495576203172135, 154.41393897874406), (-25.62599096821748, 141.49633912800988), (-36.26419158041442, -178.58245548795114), (-54.505771272470966, 141.0407510150987)]\n"
     ]
    }
   ],
   "source": [
    "print(coordinates[1:10])"
   ]
  },
  {
   "cell_type": "markdown",
   "id": "937fd657",
   "metadata": {},
   "source": [
    "## Map Nearest City\n",
    "---"
   ]
  },
  {
   "cell_type": "code",
   "execution_count": 9,
   "id": "9dcf0397",
   "metadata": {},
   "outputs": [],
   "source": [
    "# Import the citypy module to determine nearest city based on coordinates\n",
    "from citipy import citipy"
   ]
  },
  {
   "cell_type": "code",
   "execution_count": 12,
   "id": "b462d1d1",
   "metadata": {},
   "outputs": [
    {
     "name": "stdout",
     "output_type": "stream",
     "text": [
      "Number of coordinates: 2000\n",
      "Number of cities: 744\n",
      "['cape town', 'iqaluit', 'clyde river', 'bethel', 'hermanus', 'hobart', 'mount isa', 'vaini', 'new norfolk']\n"
     ]
    }
   ],
   "source": [
    "cities = []\n",
    "\n",
    "for x in coordinates:\n",
    "    city = citipy.nearest_city(x[0],x[1]).city_name\n",
    "\n",
    "    if city not in cities:\n",
    "        cities.append(city)\n",
    "\n",
    "print(f'Number of coordinates: {len(coordinates)}\\nNumber of cities: {len(cities)}')\n",
    "print(cities[1:10])"
   ]
  }
 ],
 "metadata": {
  "interpreter": {
   "hash": "ea21f4f73dfac5746a99a1c9094b731877d641b006a654112e67fbf85b9a24ad"
  },
  "kernelspec": {
   "display_name": "Python 3.7.11 64-bit ('PythonData': conda)",
   "language": "python",
   "name": "python3"
  },
  "language_info": {
   "codemirror_mode": {
    "name": "ipython",
    "version": 3
   },
   "file_extension": ".py",
   "mimetype": "text/x-python",
   "name": "python",
   "nbconvert_exporter": "python",
   "pygments_lexer": "ipython3",
   "version": "3.7.11"
  }
 },
 "nbformat": 4,
 "nbformat_minor": 5
}
